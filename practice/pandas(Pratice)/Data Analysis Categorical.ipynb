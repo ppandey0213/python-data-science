{
 "cells": [
  {
   "cell_type": "code",
   "execution_count": 1,
   "id": "727c7c57-ab36-442f-85ac-365a0b5a0250",
   "metadata": {},
   "outputs": [],
   "source": [
    "import pandas as pd\n",
    "\n",
    "df = pd.read_csv(\"googleplaystore.csv\").dropna()"
   ]
  },
  {
   "cell_type": "code",
   "execution_count": 2,
   "id": "78d44cfe-21c7-46d5-8f49-ca29136b367f",
   "metadata": {},
   "outputs": [
    {
     "name": "stdout",
     "output_type": "stream",
     "text": [
      "ART_AND_DESIGN\n",
      "AUTO_AND_VEHICLES\n",
      "BEAUTY\n",
      "BOOKS_AND_REFERENCE\n",
      "BUSINESS\n",
      "COMICS\n",
      "COMMUNICATION\n",
      "DATING\n",
      "EDUCATION\n",
      "ENTERTAINMENT\n",
      "EVENTS\n",
      "FINANCE\n",
      "FOOD_AND_DRINK\n",
      "HEALTH_AND_FITNESS\n",
      "HOUSE_AND_HOME\n",
      "LIBRARIES_AND_DEMO\n",
      "LIFESTYLE\n",
      "GAME\n",
      "FAMILY\n",
      "MEDICAL\n",
      "SOCIAL\n",
      "SHOPPING\n",
      "PHOTOGRAPHY\n",
      "SPORTS\n",
      "TRAVEL_AND_LOCAL\n",
      "TOOLS\n",
      "PERSONALIZATION\n",
      "PRODUCTIVITY\n",
      "PARENTING\n",
      "WEATHER\n",
      "VIDEO_PLAYERS\n",
      "NEWS_AND_MAGAZINES\n",
      "MAPS_AND_NAVIGATION\n"
     ]
    }
   ],
   "source": [
    "#Finding Unique catergorys present\n",
    "for i in df[\"Category\"].unique():\n",
    "    print(i)"
   ]
  },
  {
   "cell_type": "markdown",
   "id": "c6ff0363-4706-4847-81ba-caa0a3903584",
   "metadata": {},
   "source": [
    "### Q1. Total number of categories"
   ]
  },
  {
   "cell_type": "code",
   "execution_count": 3,
   "id": "2e418c11-6cdb-4403-a76c-accbb38f184a",
   "metadata": {},
   "outputs": [
    {
     "name": "stdout",
     "output_type": "stream",
     "text": [
      "There are total 33 categories\n"
     ]
    }
   ],
   "source": [
    "#Count of unique category\n",
    "print(f\"There are total {len(df[\"Category\"].unique())} categories\")"
   ]
  },
  {
   "cell_type": "markdown",
   "id": "a7babc94-2dfe-4a64-85fe-7e589694580c",
   "metadata": {},
   "source": [
    "### Q2. Total No of app in ART_AND_DESIGN Category"
   ]
  },
  {
   "cell_type": "code",
   "execution_count": 4,
   "id": "7136ce59-2fb4-4ce6-abfd-1dff77c53716",
   "metadata": {},
   "outputs": [
    {
     "name": "stdout",
     "output_type": "stream",
     "text": [
      "There are total 61 no of Apps in ART_AND_DESIGN categories\n"
     ]
    }
   ],
   "source": [
    "count = 0\n",
    "for i in df[\"Category\"]:\n",
    "    if i == \"ART_AND_DESIGN\":\n",
    "        count += 1\n",
    "print(f\"There are total {count} no of Apps in ART_AND_DESIGN categories\")"
   ]
  },
  {
   "cell_type": "markdown",
   "id": "293dab7c-4a8a-4906-bd8a-5cf2bb1caddd",
   "metadata": {},
   "source": [
    "### Q3. Total no of free and Paid Apps Analysis"
   ]
  },
  {
   "cell_type": "code",
   "execution_count": 5,
   "id": "d726ce2f-559a-4161-8f62-0fc9faba8014",
   "metadata": {},
   "outputs": [
    {
     "data": {
      "text/plain": [
       "np.int64(9360)"
      ]
     },
     "execution_count": 5,
     "metadata": {},
     "output_type": "execute_result"
    }
   ],
   "source": [
    "df[\"Type\"].unique()\n",
    "df[\"Type\"].count()"
   ]
  },
  {
   "cell_type": "code",
   "execution_count": 6,
   "id": "b2f38ccf-ba0a-458c-be32-9c945d20d7f7",
   "metadata": {},
   "outputs": [
    {
     "name": "stdout",
     "output_type": "stream",
     "text": [
      "There are total 61 no of are Free and 9299 paid applications\n"
     ]
    }
   ],
   "source": [
    "free = 0\n",
    "total = df[\"Type\"].count()\n",
    "for i in df[\"Type\"]:\n",
    "    if i == \"Free\":\n",
    "        free += 1\n",
    "paid = total-count\n",
    "print(f\"There are total {count} no of are Free and {paid} paid applications\")\n"
   ]
  },
  {
   "cell_type": "code",
   "execution_count": 7,
   "id": "ecd8f0da-14aa-4cd8-aa97-c86fc5be6aa0",
   "metadata": {},
   "outputs": [
    {
     "name": "stdout",
     "output_type": "stream",
     "text": [
      "93% applications are free\n"
     ]
    }
   ],
   "source": [
    "print(f\"{int(free/(total)*100)}% applications are free\")"
   ]
  }
 ],
 "metadata": {
  "kernelspec": {
   "display_name": "Python 3 (ipykernel)",
   "language": "python",
   "name": "python3"
  },
  "language_info": {
   "codemirror_mode": {
    "name": "ipython",
    "version": 3
   },
   "file_extension": ".py",
   "mimetype": "text/x-python",
   "name": "python",
   "nbconvert_exporter": "python",
   "pygments_lexer": "ipython3",
   "version": "3.13.5"
  }
 },
 "nbformat": 4,
 "nbformat_minor": 5
}
