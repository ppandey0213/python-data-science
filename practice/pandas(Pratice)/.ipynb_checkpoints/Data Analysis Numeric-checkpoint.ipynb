{
 "cells": [
  {
   "cell_type": "code",
   "execution_count": 2,
   "id": "4e83cf47-291d-49f4-97a2-c4f1f3180eaf",
   "metadata": {},
   "outputs": [],
   "source": [
    "import pandas as pd"
   ]
  },
  {
   "cell_type": "code",
   "execution_count": 3,
   "id": "92a7ee6d-0bf7-4d8d-ba9c-5ac964ad9323",
   "metadata": {},
   "outputs": [],
   "source": [
    "data = pd.read_csv(\"googleplaystore.csv\")"
   ]
  },
  {
   "cell_type": "code",
   "execution_count": 4,
   "id": "001110a8-0e42-40f6-89b6-c32a84628c59",
   "metadata": {},
   "outputs": [],
   "source": [
    "data = data.dropna()"
   ]
  },
  {
   "cell_type": "markdown",
   "id": "569df0ec-c840-40e8-837c-37bcbea3821f",
   "metadata": {},
   "source": [
    "### Q1. Finding Average Rating"
   ]
  },
  {
   "cell_type": "code",
   "execution_count": 5,
   "id": "e48b098c-fee6-4d67-80a9-fe57aae55439",
   "metadata": {
    "scrolled": true
   },
   "outputs": [
    {
     "data": {
      "text/plain": [
       "0        4.1\n",
       "1        3.9\n",
       "2        4.7\n",
       "3        4.5\n",
       "4        4.3\n",
       "        ... \n",
       "10834    4.0\n",
       "10836    4.5\n",
       "10837    5.0\n",
       "10839    4.5\n",
       "10840    4.5\n",
       "Name: Rating, Length: 9360, dtype: float64"
      ]
     },
     "execution_count": 5,
     "metadata": {},
     "output_type": "execute_result"
    }
   ],
   "source": [
    "data[\"Rating\"]"
   ]
  },
  {
   "cell_type": "code",
   "execution_count": 6,
   "id": "779e476a-5459-4393-80e2-975d05af5b0f",
   "metadata": {},
   "outputs": [
    {
     "name": "stdout",
     "output_type": "stream",
     "text": [
      "Average Rating of these apps is  4.19\n"
     ]
    }
   ],
   "source": [
    "print(\"Average Rating of these apps is \", float(str(int(sum(data[\"Rating\"]))/9360)[:4]))"
   ]
  },
  {
   "cell_type": "code",
   "execution_count": 7,
   "id": "fac8a5bc-3f29-457c-8b25-163124c101cd",
   "metadata": {},
   "outputs": [
    {
     "name": "stdout",
     "output_type": "stream",
     "text": [
      "4.191773504273504\n"
     ]
    }
   ],
   "source": [
    "s = 0\n",
    "for i in data[\"Rating\"]:\n",
    "    s += i\n",
    "s = int(s)\n",
    "print(s/len(data[\"Rating\"]))"
   ]
  },
  {
   "cell_type": "code",
   "execution_count": 8,
   "id": "a70d8f08-b3fc-4dd0-8877-b818071e9b0f",
   "metadata": {},
   "outputs": [
    {
     "data": {
      "text/plain": [
       "9360"
      ]
     },
     "execution_count": 8,
     "metadata": {},
     "output_type": "execute_result"
    }
   ],
   "source": [
    "len(data[\"Rating\"])"
   ]
  },
  {
   "cell_type": "markdown",
   "id": "2727e5f0-e91b-4f21-bf30-fc09db6d6cf9",
   "metadata": {},
   "source": [
    "### Q2. How many apps are there with rating 5?"
   ]
  },
  {
   "cell_type": "code",
   "execution_count": 9,
   "id": "da523ac6-ddbf-4a74-b7db-8cfc6f3e8a6c",
   "metadata": {},
   "outputs": [
    {
     "name": "stdout",
     "output_type": "stream",
     "text": [
      "There are 274 applications having rating of 5\n"
     ]
    }
   ],
   "source": [
    "count = 0\n",
    "for i in data[\"Rating\"]:\n",
    "    if (i == 5.0):\n",
    "        count += 1\n",
    "print(f\"There are {count} applications having rating of 5\")"
   ]
  },
  {
   "cell_type": "markdown",
   "id": "1ca668e4-b528-4c72-ba12-b5bd1e5ec57b",
   "metadata": {},
   "source": [
    "### Q3. How many apps having rating b/w 4.0 to 4.5?"
   ]
  },
  {
   "cell_type": "code",
   "execution_count": 10,
   "id": "607dd987-071b-499d-80d4-3e4c58076f00",
   "metadata": {},
   "outputs": [
    {
     "name": "stdout",
     "output_type": "stream",
     "text": [
      "There are 5446 applications having rating b/w 4 and 4.5\n"
     ]
    }
   ],
   "source": [
    "count = 0\n",
    "for i in data[\"Rating\"]:\n",
    "    if (i >= 4.0 and i <= 4.5):\n",
    "        count += 1\n",
    "print(f\"There are {count} applications having rating b/w 4 and 4.5\")"
   ]
  }
 ],
 "metadata": {
  "kernelspec": {
   "display_name": "Python 3 (ipykernel)",
   "language": "python",
   "name": "python3"
  },
  "language_info": {
   "codemirror_mode": {
    "name": "ipython",
    "version": 3
   },
   "file_extension": ".py",
   "mimetype": "text/x-python",
   "name": "python",
   "nbconvert_exporter": "python",
   "pygments_lexer": "ipython3",
   "version": "3.13.5"
  }
 },
 "nbformat": 4,
 "nbformat_minor": 5
}
